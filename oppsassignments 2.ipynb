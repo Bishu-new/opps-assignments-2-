{
 "cells": [
  {
   "cell_type": "markdown",
   "id": "c35b937e-d2bb-4a8f-8982-3fc279088505",
   "metadata": {},
   "source": [
    "Q1. Explain Class and Object with respect to Object-Oriented Programming. Give a suitable example."
   ]
  },
  {
   "cell_type": "markdown",
   "id": "3d660a7c-c4e6-46e7-a661-57851dafd7d6",
   "metadata": {},
   "source": [
    "Ans : In Object-Oriented Programming (OOP), a class is a blueprint for creating objects. It defines the attributes and methods that an object of that class will have. An object, on the other hand, is an instance of a class, created using the class’s blueprint. Each object has its own set of attributes, which are defined by the class, and can use the methods defined in the class to perform actions.\n",
    "\n",
    "Here is an example of a class and an object in Python:"
   ]
  },
  {
   "cell_type": "code",
   "execution_count": 12,
   "id": "8a0bd159-a6ee-497f-b648-ce4dd807fa77",
   "metadata": {},
   "outputs": [],
   "source": [
    "## this is class we are creating :\n",
    "class dog():\n",
    "    def __init__(self, name , age):\n",
    "        self.name = name \n",
    "        self.age = age\n",
    "        \n",
    "    def barks(self):\n",
    "        print (f\"{self.name}  Barks! at {self.age}\")\n",
    "        "
   ]
  },
  {
   "cell_type": "code",
   "execution_count": 13,
   "id": "50fda8a7-cd56-4908-b9fd-f3194516aa6a",
   "metadata": {},
   "outputs": [],
   "source": [
    "## creating an object for the above class\n",
    "obj = dog(\"Buddy\" , 3)"
   ]
  },
  {
   "cell_type": "code",
   "execution_count": 14,
   "id": "54732fbf-c72f-4ec7-b55b-9f9544d0769d",
   "metadata": {},
   "outputs": [
    {
     "data": {
      "text/plain": [
       "'Buddy'"
      ]
     },
     "execution_count": 14,
     "metadata": {},
     "output_type": "execute_result"
    }
   ],
   "source": [
    "obj.name"
   ]
  },
  {
   "cell_type": "code",
   "execution_count": 15,
   "id": "2cc3750a-9dc3-4c0d-a37b-5fdf06f5cc36",
   "metadata": {},
   "outputs": [
    {
     "data": {
      "text/plain": [
       "3"
      ]
     },
     "execution_count": 15,
     "metadata": {},
     "output_type": "execute_result"
    }
   ],
   "source": [
    "obj.age"
   ]
  },
  {
   "cell_type": "code",
   "execution_count": 16,
   "id": "b4be4270-7db6-4d28-9cff-024f0c046bc8",
   "metadata": {},
   "outputs": [
    {
     "name": "stdout",
     "output_type": "stream",
     "text": [
      "Buddy  Barks! at 3\n"
     ]
    }
   ],
   "source": [
    "obj.barks()"
   ]
  },
  {
   "cell_type": "markdown",
   "id": "fd24e748-129b-45cd-a3e5-6e7f588e2695",
   "metadata": {},
   "source": [
    " Q2. Name the four pillars of OOPs."
   ]
  },
  {
   "cell_type": "markdown",
   "id": "bdd2dc12-f25a-48ff-a138-76d30b4470bf",
   "metadata": {},
   "source": [
    "The four pillars of Object-Oriented Programming (OOP) are:\n",
    "\n",
    "1.Encapsulation: This refers to the bundling of data and methods that operate on that data within a single unit, called an object. Encapsulation helps to protect the data from being accessed or modified by external code, and provides a clear interface for interacting with the object.\n",
    "\n",
    "2.Abstraction: This refers to the process of exposing only the necessary details and hiding the complexity of an object from the outside world. Abstraction helps to reduce the complexity of the code and makes it easier to use and understand.\n",
    "\n",
    "3.Inheritance: This refers to the ability of a class to inherit attributes and methods from another class, called its superclass. Inheritance allows for code reuse and makes it easier to create complex class hierarchies.\n",
    "\n",
    "4.Polymorphism: This refers to the ability of objects of different classes to be used interchangeably, as long as they share a common interface. Polymorphism allows for flexibility and makes it easier to write generic code that can work with objects of different types."
   ]
  },
  {
   "cell_type": "markdown",
   "id": "ea01a236-24b6-47a1-b796-ba342ae8c724",
   "metadata": {},
   "source": [
    "Q3.Explain why the __init__() function is used. Give a suitable example."
   ]
  },
  {
   "cell_type": "markdown",
   "id": "2e8cb353-664a-4976-a8d1-37ec61612ff3",
   "metadata": {},
   "source": [
    "Ans: The __init__() function in Python is a special method, also known as a constructor, that is automatically called when an object is created from a class. Its main purpose is to initialize the attributes of the object.\n",
    "\n",
    "Here is an example of a class with an __init__() function in Python:"
   ]
  },
  {
   "cell_type": "code",
   "execution_count": 35,
   "id": "8cc733ad-0c2d-4c66-ae91-c2c6f1d3468d",
   "metadata": {},
   "outputs": [],
   "source": [
    "## Uses of __init__ as a constructor:\n",
    "class dog1():\n",
    "    def __init__(self, name , age):\n",
    "        self.name = name \n",
    "        self.age = age\n",
    "        \n",
    "    def details(self):   \n",
    "        return self.name , self.age"
   ]
  },
  {
   "cell_type": "code",
   "execution_count": 36,
   "id": "6047e1fe-51bf-422f-bfed-448a1a420067",
   "metadata": {},
   "outputs": [],
   "source": [
    "obj1 = dog1(\"buddy\" , 3)"
   ]
  },
  {
   "cell_type": "code",
   "execution_count": 37,
   "id": "be88e483-62fe-427a-990b-62e17d575661",
   "metadata": {},
   "outputs": [
    {
     "data": {
      "text/plain": [
       "('buddy', 3)"
      ]
     },
     "execution_count": 37,
     "metadata": {},
     "output_type": "execute_result"
    }
   ],
   "source": [
    "obj1.details()"
   ]
  },
  {
   "cell_type": "markdown",
   "id": "ca129c2d-96e7-4488-9e4b-c036fcbdc6f8",
   "metadata": {},
   "source": [
    "Why self is used in OOPs?"
   ]
  },
  {
   "cell_type": "markdown",
   "id": "fb268918-20df-4ab1-af6c-cc8803e3f0e4",
   "metadata": {},
   "source": [
    "Ans 4 : In Object-Oriented Programming (OOP), self is a keyword used in instance methods of a class to refer to the object on which the method is being called. It is used to access the attributes and methods of the object, and is automatically passed as the first argument to instance methods when they are called."
   ]
  },
  {
   "cell_type": "code",
   "execution_count": 44,
   "id": "213279f2-5e12-47c9-84ae-01181239fa13",
   "metadata": {},
   "outputs": [],
   "source": [
    "##uses of self in a class\n",
    "\n",
    "class data_science():\n",
    "    def __init__(self, name , roll_no):\n",
    "        self.name = name \n",
    "        self.roll_no = roll_no\n",
    "        \n",
    "    def details(self):   \n",
    "        return self.name , self.roll_no"
   ]
  },
  {
   "cell_type": "code",
   "execution_count": 45,
   "id": "81d9835e-09ed-44db-a4c7-24cdb70a4c9a",
   "metadata": {},
   "outputs": [],
   "source": [
    "student = data_science(\"Bishu\" , 101)"
   ]
  },
  {
   "cell_type": "code",
   "execution_count": 46,
   "id": "bc0c094f-4608-4013-a60a-eac01bcbf316",
   "metadata": {},
   "outputs": [
    {
     "data": {
      "text/plain": [
       "('Bishu', 101)"
      ]
     },
     "execution_count": 46,
     "metadata": {},
     "output_type": "execute_result"
    }
   ],
   "source": [
    "student.details()"
   ]
  },
  {
   "cell_type": "markdown",
   "id": "7156bd42-45d3-4c69-b739-fee65d78d5f2",
   "metadata": {},
   "source": [
    "Q5. What is inheritance? Give an example for each type of inheritance."
   ]
  },
  {
   "cell_type": "markdown",
   "id": "b8053dfe-442e-4de5-9eb4-b69e69f86474",
   "metadata": {},
   "source": [
    "Inheritance: This refers to the ability of a class to inherit attributes and methods from another class, called its superclass. Inheritance allows for code reuse and makes it easier to create complex class hierarchies."
   ]
  },
  {
   "cell_type": "code",
   "execution_count": 47,
   "id": "8ea58370-c056-4eac-b449-ed9bff797f4a",
   "metadata": {},
   "outputs": [],
   "source": [
    "##  signle inheritance\n",
    "\n",
    "class parent:\n",
    "    \n",
    "    def test_parent(self) : \n",
    "        print(\"this is my parent class \")"
   ]
  },
  {
   "cell_type": "code",
   "execution_count": 48,
   "id": "ad5d712d-9a15-4b22-bd88-6a3271037b24",
   "metadata": {},
   "outputs": [],
   "source": [
    "class child(parent):\n",
    "    pass"
   ]
  },
  {
   "cell_type": "code",
   "execution_count": 49,
   "id": "d5349c4b-2eb9-4303-90c2-b416786f7183",
   "metadata": {},
   "outputs": [],
   "source": [
    "child_obj = child()"
   ]
  },
  {
   "cell_type": "code",
   "execution_count": 50,
   "id": "81e43700-1c87-4e24-bd56-93501420848b",
   "metadata": {},
   "outputs": [
    {
     "name": "stdout",
     "output_type": "stream",
     "text": [
      "this is my parent class \n"
     ]
    }
   ],
   "source": [
    "child_obj.test_parent()"
   ]
  },
  {
   "cell_type": "code",
   "execution_count": null,
   "id": "969ded35-5de0-4387-84c0-cc9130f306b7",
   "metadata": {},
   "outputs": [],
   "source": []
  },
  {
   "cell_type": "code",
   "execution_count": 79,
   "id": "df61bd97-7ae9-461b-b6f4-75b582d88ee7",
   "metadata": {},
   "outputs": [],
   "source": [
    "## Multilevel Inheritance:\n",
    "class class1 :\n",
    "    def test_class1(self) : \n",
    "        print(\"this is my class1 \" )\n"
   ]
  },
  {
   "cell_type": "code",
   "execution_count": 52,
   "id": "5e87cfaf-72fc-4122-9987-f71c20504f34",
   "metadata": {},
   "outputs": [],
   "source": [
    "class class2(class1) : \n",
    "    def test_class2(self) : \n",
    "        print(\"this is my class2\" )"
   ]
  },
  {
   "cell_type": "code",
   "execution_count": 53,
   "id": "aff44706-7348-4e9c-b287-d09bdb344458",
   "metadata": {},
   "outputs": [],
   "source": [
    "class class3(class2) : \n",
    "    def test_class3(self) : \n",
    "        print(\"this is my class3 \")"
   ]
  },
  {
   "cell_type": "code",
   "execution_count": 54,
   "id": "19ce3ad7-c6d5-43c1-8f64-2faca529557b",
   "metadata": {},
   "outputs": [],
   "source": [
    "obj_class3  = class3()"
   ]
  },
  {
   "cell_type": "code",
   "execution_count": 55,
   "id": "fcd3d52c-e48f-4bea-9b31-3479ce92aab6",
   "metadata": {},
   "outputs": [
    {
     "name": "stdout",
     "output_type": "stream",
     "text": [
      "this is my class1 \n"
     ]
    }
   ],
   "source": [
    "obj_class3.test_class1()"
   ]
  },
  {
   "cell_type": "code",
   "execution_count": 56,
   "id": "d147674c-0d0f-4361-9766-8ceb05227415",
   "metadata": {},
   "outputs": [
    {
     "name": "stdout",
     "output_type": "stream",
     "text": [
      "this is my class2\n"
     ]
    }
   ],
   "source": [
    "obj_class3.test_class2()"
   ]
  },
  {
   "cell_type": "code",
   "execution_count": 57,
   "id": "970bd2be-03d7-42f9-acb5-3e28cce1eee8",
   "metadata": {},
   "outputs": [
    {
     "name": "stdout",
     "output_type": "stream",
     "text": [
      "this is my class3 \n"
     ]
    }
   ],
   "source": [
    "obj_class3.test_class3()"
   ]
  },
  {
   "cell_type": "code",
   "execution_count": null,
   "id": "d5670b62-f81f-4e32-84c9-514bb4ffcc2c",
   "metadata": {},
   "outputs": [],
   "source": []
  },
  {
   "cell_type": "code",
   "execution_count": 73,
   "id": "f129958e-7c4c-4c2b-a775-b5baedc465de",
   "metadata": {},
   "outputs": [],
   "source": [
    "## Multiple Inheritnace \n",
    "class class4:\n",
    "    \n",
    "    def test4(self):\n",
    "        return \"This is class 4\""
   ]
  },
  {
   "cell_type": "code",
   "execution_count": 74,
   "id": "09567f63-e145-4379-9488-83d51e0a69ee",
   "metadata": {},
   "outputs": [],
   "source": [
    "class class5():\n",
    "    def test5(self):\n",
    "        return\"This is class 5\""
   ]
  },
  {
   "cell_type": "code",
   "execution_count": 75,
   "id": "b4395506-828e-41eb-bcc5-6b548c56a1e4",
   "metadata": {},
   "outputs": [],
   "source": [
    "## creating a multiple inheritance class\n",
    "class class6(class4 , class5):\n",
    "    pass"
   ]
  },
  {
   "cell_type": "code",
   "execution_count": 76,
   "id": "7ce29391-cadd-47e2-ae99-bb69118190fc",
   "metadata": {},
   "outputs": [],
   "source": [
    "class6_obj = class6()"
   ]
  },
  {
   "cell_type": "code",
   "execution_count": 77,
   "id": "90604d22-6130-4691-aa00-d7adc66fee86",
   "metadata": {},
   "outputs": [
    {
     "data": {
      "text/plain": [
       "'This is class 4'"
      ]
     },
     "execution_count": 77,
     "metadata": {},
     "output_type": "execute_result"
    }
   ],
   "source": [
    "class6_obj.test4()"
   ]
  },
  {
   "cell_type": "code",
   "execution_count": 78,
   "id": "0baa50cb-7e61-4318-a393-0f8103d54203",
   "metadata": {},
   "outputs": [
    {
     "data": {
      "text/plain": [
       "'This is class 5'"
      ]
     },
     "execution_count": 78,
     "metadata": {},
     "output_type": "execute_result"
    }
   ],
   "source": [
    "class6_obj.test5()"
   ]
  },
  {
   "cell_type": "code",
   "execution_count": null,
   "id": "5ae10dfb-ae57-4fdd-a343-4037fa1dfb83",
   "metadata": {},
   "outputs": [],
   "source": []
  }
 ],
 "metadata": {
  "kernelspec": {
   "display_name": "Python 3 (ipykernel)",
   "language": "python",
   "name": "python3"
  },
  "language_info": {
   "codemirror_mode": {
    "name": "ipython",
    "version": 3
   },
   "file_extension": ".py",
   "mimetype": "text/x-python",
   "name": "python",
   "nbconvert_exporter": "python",
   "pygments_lexer": "ipython3",
   "version": "3.10.8"
  }
 },
 "nbformat": 4,
 "nbformat_minor": 5
}
